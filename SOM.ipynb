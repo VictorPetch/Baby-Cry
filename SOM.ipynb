{
  "nbformat": 4,
  "nbformat_minor": 0,
  "metadata": {
    "colab": {
      "name": "SOM.ipynb",
      "version": "0.3.2",
      "provenance": [],
      "collapsed_sections": [],
      "include_colab_link": true
    },
    "kernelspec": {
      "name": "python3",
      "display_name": "Python 3"
    }
  },
  "cells": [
    {
      "cell_type": "markdown",
      "metadata": {
        "id": "view-in-github",
        "colab_type": "text"
      },
      "source": [
        "<a href=\"https://colab.research.google.com/github/VictorPetch/Baby-Cry/blob/master/SOM.ipynb\" target=\"_parent\"><img src=\"https://colab.research.google.com/assets/colab-badge.svg\" alt=\"Open In Colab\"/></a>"
      ]
    },
    {
      "metadata": {
        "id": "IBg4DNrmjIYq",
        "colab_type": "code",
        "colab": {}
      },
      "cell_type": "code",
      "source": [
        "# SOM\n",
        "# from https://www.superdatascience.com/deep-learning/ \n",
        "\n",
        "\n",
        "# Importing the libraries\n",
        "import numpy as np\n",
        "import matplotlib.pyplot as plt\n",
        "import pandas as pd"
      ],
      "execution_count": 0,
      "outputs": []
    },
    {
      "metadata": {
        "id": "00IH3WDBjzru",
        "colab_type": "code",
        "colab": {
          "base_uri": "https://localhost:8080/",
          "height": 153
        },
        "outputId": "ee44e050-39ed-4843-b14b-c3970ed7c73d"
      },
      "cell_type": "code",
      "source": [
        "# Install MiniSOM\n",
        "# https://github.com/JustGlowing/minisom \n",
        "!pip install minisom"
      ],
      "execution_count": 3,
      "outputs": [
        {
          "output_type": "stream",
          "text": [
            "Collecting minisom\n",
            "  Downloading https://files.pythonhosted.org/packages/d3/de/79460293f5b3b69371832f50419820162b30a12c929d02543df3b4ff3d41/MiniSom-2.1.4.tar.gz\n",
            "Building wheels for collected packages: minisom\n",
            "  Running setup.py bdist_wheel for minisom ... \u001b[?25l-\b \bdone\n",
            "\u001b[?25h  Stored in directory: /root/.cache/pip/wheels/4a/5c/75/d21b1b07292ccd8720a8076304f793031e016c16e9c8eacbf9\n",
            "Successfully built minisom\n",
            "Installing collected packages: minisom\n",
            "Successfully installed minisom-2.1.4\n"
          ],
          "name": "stdout"
        }
      ]
    },
    {
      "metadata": {
        "id": "QgR2cDe_kSLS",
        "colab_type": "code",
        "colab": {
          "base_uri": "https://localhost:8080/",
          "height": 34
        },
        "outputId": "6beebb3c-06fb-47e7-bdc0-cae6e02e837f"
      },
      "cell_type": "code",
      "source": [
        "# Getting Data\n",
        "import os\n",
        "import tarfile\n",
        "from six.moves import urllib\n",
        "\n",
        "FILE_TO_DOWNLOAD =  \"High_Thrash.csv\"\n",
        "DOWNLOAD_ROOT = \"https://raw.githubusercontent.com/VictorPetch/Baby-Cry/master/\"\n",
        "DATA_URL = DOWNLOAD_ROOT  + FILE_TO_DOWNLOAD\n",
        "\n",
        "def fetch_data(data_url=DATA_URL, file_to_download=FILE_TO_DOWNLOAD):\n",
        "  \n",
        "  urllib.request.urlretrieve(data_url,file_to_download)\n",
        "  \n",
        "  \n",
        "fetch_data()\n",
        "\n",
        "# observando se o diretório datasets foi criado com sucesso \n",
        "!ls Low_High_Thrash.csv"
      ],
      "execution_count": 4,
      "outputs": [
        {
          "output_type": "stream",
          "text": [
            "ls: cannot access 'Low_High_Thrash.csv': No such file or directory\n"
          ],
          "name": "stdout"
        }
      ]
    },
    {
      "metadata": {
        "id": "Mnq2XRGwkZgr",
        "colab_type": "code",
        "colab": {
          "base_uri": "https://localhost:8080/",
          "height": 253
        },
        "outputId": "4ae5aaab-3093-41ad-bbe7-4ab041c15f0e"
      },
      "cell_type": "code",
      "source": [
        "# Importing the dataset\n",
        "dataset = pd.read_csv(FILE_TO_DOWNLOAD)\n",
        "\n",
        "X = dataset.iloc[:, 1:-1].values\n",
        "y = dataset.iloc[:, -1].values\n",
        "\n",
        "\n",
        "dataset.head()\n",
        "\n",
        "\n",
        "\n"
      ],
      "execution_count": 5,
      "outputs": [
        {
          "output_type": "execute_result",
          "data": {
            "text/html": [
              "<div>\n",
              "<style scoped>\n",
              "    .dataframe tbody tr th:only-of-type {\n",
              "        vertical-align: middle;\n",
              "    }\n",
              "\n",
              "    .dataframe tbody tr th {\n",
              "        vertical-align: top;\n",
              "    }\n",
              "\n",
              "    .dataframe thead th {\n",
              "        text-align: right;\n",
              "    }\n",
              "</style>\n",
              "<table border=\"1\" class=\"dataframe\">\n",
              "  <thead>\n",
              "    <tr style=\"text-align: right;\">\n",
              "      <th></th>\n",
              "      <th>Files</th>\n",
              "      <th>F0</th>\n",
              "      <th>F1</th>\n",
              "      <th>F2</th>\n",
              "      <th>F3</th>\n",
              "      <th>F4</th>\n",
              "      <th>F5</th>\n",
              "      <th>F6</th>\n",
              "      <th>F7</th>\n",
              "      <th>F8</th>\n",
              "      <th>...</th>\n",
              "      <th>F11</th>\n",
              "      <th>F12</th>\n",
              "      <th>F13</th>\n",
              "      <th>F14</th>\n",
              "      <th>F15</th>\n",
              "      <th>F16</th>\n",
              "      <th>F17</th>\n",
              "      <th>F18</th>\n",
              "      <th>F19</th>\n",
              "      <th>Class</th>\n",
              "    </tr>\n",
              "  </thead>\n",
              "  <tbody>\n",
              "    <tr>\n",
              "      <th>0</th>\n",
              "      <td>BellyPain05</td>\n",
              "      <td>2480.263158</td>\n",
              "      <td>2297.222222</td>\n",
              "      <td>2384.795322</td>\n",
              "      <td>2303.801170</td>\n",
              "      <td>2497.514620</td>\n",
              "      <td>2242.982456</td>\n",
              "      <td>2368.421053</td>\n",
              "      <td>2494.152047</td>\n",
              "      <td>2467.836257</td>\n",
              "      <td>...</td>\n",
              "      <td>2477.777778</td>\n",
              "      <td>2296.345029</td>\n",
              "      <td>2353.362573</td>\n",
              "      <td>2365.935673</td>\n",
              "      <td>2451.461988</td>\n",
              "      <td>2309.356725</td>\n",
              "      <td>2327.046784</td>\n",
              "      <td>2304.385965</td>\n",
              "      <td>2343.421053</td>\n",
              "      <td>0</td>\n",
              "    </tr>\n",
              "    <tr>\n",
              "      <th>1</th>\n",
              "      <td>BellyPain06</td>\n",
              "      <td>1219.648094</td>\n",
              "      <td>1219.501466</td>\n",
              "      <td>1219.354839</td>\n",
              "      <td>1217.302053</td>\n",
              "      <td>1220.087977</td>\n",
              "      <td>1213.929619</td>\n",
              "      <td>1214.516129</td>\n",
              "      <td>2421.114370</td>\n",
              "      <td>2421.260997</td>\n",
              "      <td>...</td>\n",
              "      <td>1217.448680</td>\n",
              "      <td>405.865103</td>\n",
              "      <td>1217.595308</td>\n",
              "      <td>1212.170088</td>\n",
              "      <td>1217.155425</td>\n",
              "      <td>1219.794721</td>\n",
              "      <td>405.718475</td>\n",
              "      <td>1099.266862</td>\n",
              "      <td>406.304985</td>\n",
              "      <td>0</td>\n",
              "    </tr>\n",
              "    <tr>\n",
              "      <th>2</th>\n",
              "      <td>BellyPain08</td>\n",
              "      <td>1301.169591</td>\n",
              "      <td>1298.391813</td>\n",
              "      <td>841.812865</td>\n",
              "      <td>1298.830409</td>\n",
              "      <td>1326.169591</td>\n",
              "      <td>1312.134503</td>\n",
              "      <td>829.093567</td>\n",
              "      <td>1293.713450</td>\n",
              "      <td>843.128655</td>\n",
              "      <td>...</td>\n",
              "      <td>1295.614035</td>\n",
              "      <td>823.684211</td>\n",
              "      <td>837.280702</td>\n",
              "      <td>832.748538</td>\n",
              "      <td>860.087719</td>\n",
              "      <td>1300.292398</td>\n",
              "      <td>1247.076023</td>\n",
              "      <td>838.742690</td>\n",
              "      <td>1373.391813</td>\n",
              "      <td>0</td>\n",
              "    </tr>\n",
              "    <tr>\n",
              "      <th>3</th>\n",
              "      <td>Cold_Hot08</td>\n",
              "      <td>2177.339181</td>\n",
              "      <td>2177.631579</td>\n",
              "      <td>2176.900585</td>\n",
              "      <td>2176.461988</td>\n",
              "      <td>2177.192982</td>\n",
              "      <td>2176.754386</td>\n",
              "      <td>2177.046784</td>\n",
              "      <td>2177.777778</td>\n",
              "      <td>2177.923977</td>\n",
              "      <td>...</td>\n",
              "      <td>2176.315789</td>\n",
              "      <td>2178.362573</td>\n",
              "      <td>2178.654971</td>\n",
              "      <td>1515.204678</td>\n",
              "      <td>2175.730994</td>\n",
              "      <td>2176.169591</td>\n",
              "      <td>2178.216374</td>\n",
              "      <td>2176.608187</td>\n",
              "      <td>2176.023392</td>\n",
              "      <td>0</td>\n",
              "    </tr>\n",
              "    <tr>\n",
              "      <th>4</th>\n",
              "      <td>Cold_Hot09</td>\n",
              "      <td>827.927928</td>\n",
              "      <td>828.528529</td>\n",
              "      <td>859.609610</td>\n",
              "      <td>865.465465</td>\n",
              "      <td>904.204204</td>\n",
              "      <td>827.177177</td>\n",
              "      <td>834.834835</td>\n",
              "      <td>859.459459</td>\n",
              "      <td>828.678679</td>\n",
              "      <td>...</td>\n",
              "      <td>859.759760</td>\n",
              "      <td>875.825826</td>\n",
              "      <td>839.489489</td>\n",
              "      <td>860.360360</td>\n",
              "      <td>901.201201</td>\n",
              "      <td>853.753754</td>\n",
              "      <td>896.846847</td>\n",
              "      <td>827.027027</td>\n",
              "      <td>896.246246</td>\n",
              "      <td>0</td>\n",
              "    </tr>\n",
              "  </tbody>\n",
              "</table>\n",
              "<p>5 rows × 22 columns</p>\n",
              "</div>"
            ],
            "text/plain": [
              "         Files           F0           F1           F2           F3  \\\n",
              "0  BellyPain05  2480.263158  2297.222222  2384.795322  2303.801170   \n",
              "1  BellyPain06  1219.648094  1219.501466  1219.354839  1217.302053   \n",
              "2  BellyPain08  1301.169591  1298.391813   841.812865  1298.830409   \n",
              "3   Cold_Hot08  2177.339181  2177.631579  2176.900585  2176.461988   \n",
              "4   Cold_Hot09   827.927928   828.528529   859.609610   865.465465   \n",
              "\n",
              "            F4           F5           F6           F7           F8   ...    \\\n",
              "0  2497.514620  2242.982456  2368.421053  2494.152047  2467.836257   ...     \n",
              "1  1220.087977  1213.929619  1214.516129  2421.114370  2421.260997   ...     \n",
              "2  1326.169591  1312.134503   829.093567  1293.713450   843.128655   ...     \n",
              "3  2177.192982  2176.754386  2177.046784  2177.777778  2177.923977   ...     \n",
              "4   904.204204   827.177177   834.834835   859.459459   828.678679   ...     \n",
              "\n",
              "           F11          F12          F13          F14          F15  \\\n",
              "0  2477.777778  2296.345029  2353.362573  2365.935673  2451.461988   \n",
              "1  1217.448680   405.865103  1217.595308  1212.170088  1217.155425   \n",
              "2  1295.614035   823.684211   837.280702   832.748538   860.087719   \n",
              "3  2176.315789  2178.362573  2178.654971  1515.204678  2175.730994   \n",
              "4   859.759760   875.825826   839.489489   860.360360   901.201201   \n",
              "\n",
              "           F16          F17          F18          F19   Class  \n",
              "0  2309.356725  2327.046784  2304.385965  2343.421053       0  \n",
              "1  1219.794721   405.718475  1099.266862   406.304985       0  \n",
              "2  1300.292398  1247.076023   838.742690  1373.391813       0  \n",
              "3  2176.169591  2178.216374  2176.608187  2176.023392       0  \n",
              "4   853.753754   896.846847   827.027027   896.246246       0  \n",
              "\n",
              "[5 rows x 22 columns]"
            ]
          },
          "metadata": {
            "tags": []
          },
          "execution_count": 5
        }
      ]
    },
    {
      "metadata": {
        "id": "4XExRxaKmKPd",
        "colab_type": "code",
        "colab": {}
      },
      "cell_type": "code",
      "source": [
        "# Feature Scaling\n",
        "from sklearn.preprocessing import MinMaxScaler\n",
        "sc = MinMaxScaler(feature_range = (0, 1))\n",
        "X = sc.fit_transform(X)\n",
        "#z = sc.fit_transform(z)\n"
      ],
      "execution_count": 0,
      "outputs": []
    },
    {
      "metadata": {
        "id": "HQNpExMKmM8D",
        "colab_type": "code",
        "colab": {}
      },
      "cell_type": "code",
      "source": [
        "# Training the SOM\n",
        "from minisom import MiniSom\n",
        "som = MiniSom(x = 12, y = 12, input_len = 20, sigma = 1.0, learning_rate = 0.5)\n",
        "som.random_weights_init(X)\n",
        "som.train_batch(data = X, num_iteration = 300)"
      ],
      "execution_count": 0,
      "outputs": []
    },
    {
      "metadata": {
        "id": "DBywFkxNmfbO",
        "colab_type": "code",
        "colab": {
          "base_uri": "https://localhost:8080/",
          "height": 351
        },
        "outputId": "b7c190e0-627b-4a37-f2b4-198ebbc77493"
      },
      "cell_type": "code",
      "source": [
        "# Visualizing the results\n",
        "from pylab import bone, pcolor, colorbar, plot, show\n",
        "bone()\n",
        "pcolor(som.distance_map().T)\n",
        "colorbar()\n",
        "markers = ['o', 's','*']\n",
        "colors = ['r', 'g','m']\n",
        "for i, x in enumerate(X):\n",
        "    w = som.winner(x)\n",
        "    plot(w[0] + 0.5,\n",
        "         w[1] + 0.5,\n",
        "         markers[y[i]],\n",
        "         markeredgecolor = colors[y[i]],\n",
        "         markerfacecolor = 'None',\n",
        "         markersize = 10,\n",
        "         markeredgewidth = 2)\n",
        "show()\n"
      ],
      "execution_count": 8,
      "outputs": [
        {
          "output_type": "display_data",
          "data": {
            "image/png": "[encoded data removed]",
            "text/plain": [
              "<matplotlib.figure.Figure at 0x7f203a7d8128>"
            ]
          },
          "metadata": {
            "tags": []
          }
        }
      ]
    },
    {
      "metadata": {
        "id": "mpti4lQYBm5O",
        "colab_type": "code",
        "colab": {
          "base_uri": "https://localhost:8080/",
          "height": 34
        },
        "outputId": "28676990-52a1-4c1f-baea-b4292e9ead7d"
      },
      "cell_type": "code",
      "source": [
        "z = 858.9939024390244, 858.8414634146342, 859.1463414634146, 859.451219512195, 858.6890243902438, 876.0670731707316, 859.6036585365854, 859.2987804878048, 860.9756097560976, 876.9817073170732, 875.9146341463414, 862.6524390243902, 876.8292682926829, 862.3475609756098, 862.5, 859.7560975609756, 880.030487804878, 860.8231707317073, 861.1280487804878, 896.951219512195\n",
        "w = som.winner(z)\n",
        "print(w)"
      ],
      "execution_count": 9,
      "outputs": [
        {
          "output_type": "stream",
          "text": [
            "(7, 4)\n"
          ],
          "name": "stdout"
        }
      ]
    },
    {
      "metadata": {
        "id": "wN0jlgA544Vi",
        "colab_type": "code",
        "colab": {}
      },
      "cell_type": "code",
      "source": [
        ""
      ],
      "execution_count": 0,
      "outputs": []
    }
  ]
}